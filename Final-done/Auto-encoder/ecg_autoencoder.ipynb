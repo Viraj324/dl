{
 "cells": [
  {
   "cell_type": "code",
   "execution_count": 1,
   "metadata": {},
   "outputs": [
    {
     "name": "stderr",
     "output_type": "stream",
     "text": [
      "C:\\Users\\ADMIN\\anaconda3\\lib\\site-packages\\scipy\\__init__.py:155: UserWarning: A NumPy version >=1.18.5 and <1.25.0 is required for this version of SciPy (detected version 1.26.4\n",
      "  warnings.warn(f\"A NumPy version >={np_minversion} and <{np_maxversion}\"\n"
     ]
    }
   ],
   "source": [
    "import pandas as pd\n",
    "import matplotlib.pyplot as plt\n",
    "import tensorflow as tf\n",
    "import numpy as np\n",
    "from tensorflow.keras.models import Model, Sequential\n",
    "from tensorflow.keras.layers import Dense,Input\n",
    "from sklearn.model_selection import train_test_split\n",
    "from sklearn.preprocessing import StandardScaler\n",
    "from sklearn.metrics import confusion_matrix, classification_report"
   ]
  },
  {
   "cell_type": "code",
   "execution_count": 2,
   "metadata": {},
   "outputs": [],
   "source": [
    "df=pd.read_csv(\"./ecg_autoencoder_dataset.csv\",header=None)"
   ]
  },
  {
   "cell_type": "code",
   "execution_count": 3,
   "metadata": {},
   "outputs": [],
   "source": [
    "X = df.drop([140], axis = 1)\n",
    "y = df[140]"
   ]
  },
  {
   "cell_type": "code",
   "execution_count": 4,
   "metadata": {},
   "outputs": [],
   "source": [
    "X_train, X_test, y_train, y_test = train_test_split(X, y, test_size=0.3, random_state=42)\n"
   ]
  },
  {
   "cell_type": "code",
   "execution_count": 5,
   "metadata": {},
   "outputs": [],
   "source": [
    "scaler=StandardScaler()\n",
    "X_train=scaler.fit_transform(X_train)\n",
    "X_test=scaler.fit_transform(X_test)"
   ]
  },
  {
   "cell_type": "code",
   "execution_count": 6,
   "metadata": {},
   "outputs": [],
   "source": [
    "encoder=Sequential([\n",
    "    Input(shape=(X_train.shape[1],)), # Use x_train.shape[1] to get the number of features\n",
    "    Dense(64,activation='relu'),\n",
    "    Dense(32,activation='relu'),\n",
    "    Dense(16,activation='relu'),\n",
    "])"
   ]
  },
  {
   "cell_type": "code",
   "execution_count": 7,
   "metadata": {},
   "outputs": [],
   "source": [
    "\n",
    "decoder=Sequential([\n",
    "    Input(shape=(16,)),\n",
    "    Dense(32,activation='relu'),\n",
    "    Dense(64,activation='relu'),\n",
    "    Dense(X_train.shape[1],activation='linear')\n",
    "])"
   ]
  },
  {
   "cell_type": "code",
   "execution_count": 8,
   "metadata": {},
   "outputs": [],
   "source": [
    "autoencoder=Sequential([\n",
    "    encoder,\n",
    "    decoder\n",
    "])"
   ]
  },
  {
   "cell_type": "code",
   "execution_count": 9,
   "metadata": {},
   "outputs": [],
   "source": [
    "autoencoder.compile(optimizer='adam',loss='mean_squared_error',metrics=['accuracy'])"
   ]
  },
  {
   "cell_type": "code",
   "execution_count": 10,
   "metadata": {},
   "outputs": [
    {
     "name": "stdout",
     "output_type": "stream",
     "text": [
      "Epoch 1/100\n",
      "\u001b[1m110/110\u001b[0m \u001b[32m━━━━━━━━━━━━━━━━━━━━\u001b[0m\u001b[37m\u001b[0m \u001b[1m4s\u001b[0m 10ms/step - accuracy: 0.0125 - loss: 0.7812 - val_accuracy: 0.0940 - val_loss: 0.3166\n",
      "Epoch 2/100\n",
      "\u001b[1m110/110\u001b[0m \u001b[32m━━━━━━━━━━━━━━━━━━━━\u001b[0m\u001b[37m\u001b[0m \u001b[1m1s\u001b[0m 7ms/step - accuracy: 0.0898 - loss: 0.3062 - val_accuracy: 0.1200 - val_loss: 0.2259\n",
      "Epoch 3/100\n",
      "\u001b[1m110/110\u001b[0m \u001b[32m━━━━━━━━━━━━━━━━━━━━\u001b[0m\u001b[37m\u001b[0m \u001b[1m1s\u001b[0m 7ms/step - accuracy: 0.1058 - loss: 0.2026 - val_accuracy: 0.1153 - val_loss: 0.1904\n",
      "Epoch 4/100\n",
      "\u001b[1m110/110\u001b[0m \u001b[32m━━━━━━━━━━━━━━━━━━━━\u001b[0m\u001b[37m\u001b[0m \u001b[1m1s\u001b[0m 6ms/step - accuracy: 0.1128 - loss: 0.1835 - val_accuracy: 0.1533 - val_loss: 0.1636\n",
      "Epoch 5/100\n",
      "\u001b[1m110/110\u001b[0m \u001b[32m━━━━━━━━━━━━━━━━━━━━\u001b[0m\u001b[37m\u001b[0m \u001b[1m1s\u001b[0m 6ms/step - accuracy: 0.1458 - loss: 0.1465 - val_accuracy: 0.1887 - val_loss: 0.1501\n",
      "Epoch 6/100\n",
      "\u001b[1m110/110\u001b[0m \u001b[32m━━━━━━━━━━━━━━━━━━━━\u001b[0m\u001b[37m\u001b[0m \u001b[1m1s\u001b[0m 7ms/step - accuracy: 0.1668 - loss: 0.1551 - val_accuracy: 0.2020 - val_loss: 0.1441\n",
      "Epoch 7/100\n",
      "\u001b[1m110/110\u001b[0m \u001b[32m━━━━━━━━━━━━━━━━━━━━\u001b[0m\u001b[37m\u001b[0m \u001b[1m1s\u001b[0m 6ms/step - accuracy: 0.1746 - loss: 0.1379 - val_accuracy: 0.2100 - val_loss: 0.1344\n",
      "Epoch 8/100\n",
      "\u001b[1m110/110\u001b[0m \u001b[32m━━━━━━━━━━━━━━━━━━━━\u001b[0m\u001b[37m\u001b[0m \u001b[1m1s\u001b[0m 6ms/step - accuracy: 0.1899 - loss: 0.1326 - val_accuracy: 0.2120 - val_loss: 0.1253\n",
      "Epoch 9/100\n",
      "\u001b[1m110/110\u001b[0m \u001b[32m━━━━━━━━━━━━━━━━━━━━\u001b[0m\u001b[37m\u001b[0m \u001b[1m1s\u001b[0m 7ms/step - accuracy: 0.2168 - loss: 0.1202 - val_accuracy: 0.2027 - val_loss: 0.1216\n",
      "Epoch 10/100\n",
      "\u001b[1m110/110\u001b[0m \u001b[32m━━━━━━━━━━━━━━━━━━━━\u001b[0m\u001b[37m\u001b[0m \u001b[1m1s\u001b[0m 7ms/step - accuracy: 0.2156 - loss: 0.1136 - val_accuracy: 0.2407 - val_loss: 0.1195\n",
      "Epoch 11/100\n",
      "\u001b[1m110/110\u001b[0m \u001b[32m━━━━━━━━━━━━━━━━━━━━\u001b[0m\u001b[37m\u001b[0m \u001b[1m1s\u001b[0m 6ms/step - accuracy: 0.2152 - loss: 0.1213 - val_accuracy: 0.2187 - val_loss: 0.1108\n",
      "Epoch 12/100\n",
      "\u001b[1m110/110\u001b[0m \u001b[32m━━━━━━━━━━━━━━━━━━━━\u001b[0m\u001b[37m\u001b[0m \u001b[1m1s\u001b[0m 6ms/step - accuracy: 0.2158 - loss: 0.1075 - val_accuracy: 0.2220 - val_loss: 0.1153\n",
      "Epoch 13/100\n",
      "\u001b[1m110/110\u001b[0m \u001b[32m━━━━━━━━━━━━━━━━━━━━\u001b[0m\u001b[37m\u001b[0m \u001b[1m1s\u001b[0m 7ms/step - accuracy: 0.2139 - loss: 0.1036 - val_accuracy: 0.2453 - val_loss: 0.1085\n",
      "Epoch 14/100\n",
      "\u001b[1m110/110\u001b[0m \u001b[32m━━━━━━━━━━━━━━━━━━━━\u001b[0m\u001b[37m\u001b[0m \u001b[1m1s\u001b[0m 7ms/step - accuracy: 0.2420 - loss: 0.0964 - val_accuracy: 0.2453 - val_loss: 0.1012\n",
      "Epoch 15/100\n",
      "\u001b[1m110/110\u001b[0m \u001b[32m━━━━━━━━━━━━━━━━━━━━\u001b[0m\u001b[37m\u001b[0m \u001b[1m1s\u001b[0m 7ms/step - accuracy: 0.2409 - loss: 0.0871 - val_accuracy: 0.2627 - val_loss: 0.1030\n",
      "Epoch 16/100\n",
      "\u001b[1m110/110\u001b[0m \u001b[32m━━━━━━━━━━━━━━━━━━━━\u001b[0m\u001b[37m\u001b[0m \u001b[1m1s\u001b[0m 7ms/step - accuracy: 0.2495 - loss: 0.0836 - val_accuracy: 0.2607 - val_loss: 0.0978\n",
      "Epoch 17/100\n",
      "\u001b[1m110/110\u001b[0m \u001b[32m━━━━━━━━━━━━━━━━━━━━\u001b[0m\u001b[37m\u001b[0m \u001b[1m1s\u001b[0m 6ms/step - accuracy: 0.2460 - loss: 0.0877 - val_accuracy: 0.2467 - val_loss: 0.0952\n",
      "Epoch 18/100\n",
      "\u001b[1m110/110\u001b[0m \u001b[32m━━━━━━━━━━━━━━━━━━━━\u001b[0m\u001b[37m\u001b[0m \u001b[1m1s\u001b[0m 7ms/step - accuracy: 0.2581 - loss: 0.0808 - val_accuracy: 0.2747 - val_loss: 0.0927\n",
      "Epoch 19/100\n",
      "\u001b[1m110/110\u001b[0m \u001b[32m━━━━━━━━━━━━━━━━━━━━\u001b[0m\u001b[37m\u001b[0m \u001b[1m1s\u001b[0m 7ms/step - accuracy: 0.2632 - loss: 0.0855 - val_accuracy: 0.2600 - val_loss: 0.0934\n",
      "Epoch 20/100\n",
      "\u001b[1m110/110\u001b[0m \u001b[32m━━━━━━━━━━━━━━━━━━━━\u001b[0m\u001b[37m\u001b[0m \u001b[1m1s\u001b[0m 7ms/step - accuracy: 0.2609 - loss: 0.0878 - val_accuracy: 0.2680 - val_loss: 0.0912\n",
      "Epoch 21/100\n",
      "\u001b[1m110/110\u001b[0m \u001b[32m━━━━━━━━━━━━━━━━━━━━\u001b[0m\u001b[37m\u001b[0m \u001b[1m1s\u001b[0m 6ms/step - accuracy: 0.2627 - loss: 0.0864 - val_accuracy: 0.2560 - val_loss: 0.0884\n",
      "Epoch 22/100\n",
      "\u001b[1m110/110\u001b[0m \u001b[32m━━━━━━━━━━━━━━━━━━━━\u001b[0m\u001b[37m\u001b[0m \u001b[1m1s\u001b[0m 6ms/step - accuracy: 0.2583 - loss: 0.0871 - val_accuracy: 0.2713 - val_loss: 0.0899\n",
      "Epoch 23/100\n",
      "\u001b[1m110/110\u001b[0m \u001b[32m━━━━━━━━━━━━━━━━━━━━\u001b[0m\u001b[37m\u001b[0m \u001b[1m1s\u001b[0m 7ms/step - accuracy: 0.2600 - loss: 0.0870 - val_accuracy: 0.2713 - val_loss: 0.0866\n",
      "Epoch 24/100\n",
      "\u001b[1m110/110\u001b[0m \u001b[32m━━━━━━━━━━━━━━━━━━━━\u001b[0m\u001b[37m\u001b[0m \u001b[1m1s\u001b[0m 6ms/step - accuracy: 0.2690 - loss: 0.0797 - val_accuracy: 0.2747 - val_loss: 0.0861\n",
      "Epoch 25/100\n",
      "\u001b[1m110/110\u001b[0m \u001b[32m━━━━━━━━━━━━━━━━━━━━\u001b[0m\u001b[37m\u001b[0m \u001b[1m1s\u001b[0m 6ms/step - accuracy: 0.2454 - loss: 0.0713 - val_accuracy: 0.2733 - val_loss: 0.0856\n",
      "Epoch 26/100\n",
      "\u001b[1m110/110\u001b[0m \u001b[32m━━━━━━━━━━━━━━━━━━━━\u001b[0m\u001b[37m\u001b[0m \u001b[1m1s\u001b[0m 9ms/step - accuracy: 0.2644 - loss: 0.0816 - val_accuracy: 0.2780 - val_loss: 0.0823\n",
      "Epoch 27/100\n",
      "\u001b[1m110/110\u001b[0m \u001b[32m━━━━━━━━━━━━━━━━━━━━\u001b[0m\u001b[37m\u001b[0m \u001b[1m1s\u001b[0m 7ms/step - accuracy: 0.2597 - loss: 0.0769 - val_accuracy: 0.2540 - val_loss: 0.0838\n",
      "Epoch 28/100\n",
      "\u001b[1m110/110\u001b[0m \u001b[32m━━━━━━━━━━━━━━━━━━━━\u001b[0m\u001b[37m\u001b[0m \u001b[1m1s\u001b[0m 6ms/step - accuracy: 0.2643 - loss: 0.0703 - val_accuracy: 0.2620 - val_loss: 0.0820\n",
      "Epoch 29/100\n",
      "\u001b[1m110/110\u001b[0m \u001b[32m━━━━━━━━━━━━━━━━━━━━\u001b[0m\u001b[37m\u001b[0m \u001b[1m1s\u001b[0m 6ms/step - accuracy: 0.2537 - loss: 0.0741 - val_accuracy: 0.2767 - val_loss: 0.0809\n",
      "Epoch 30/100\n",
      "\u001b[1m110/110\u001b[0m \u001b[32m━━━━━━━━━━━━━━━━━━━━\u001b[0m\u001b[37m\u001b[0m \u001b[1m1s\u001b[0m 6ms/step - accuracy: 0.2813 - loss: 0.0740 - val_accuracy: 0.2653 - val_loss: 0.0839\n",
      "Epoch 31/100\n",
      "\u001b[1m110/110\u001b[0m \u001b[32m━━━━━━━━━━━━━━━━━━━━\u001b[0m\u001b[37m\u001b[0m \u001b[1m1s\u001b[0m 6ms/step - accuracy: 0.2610 - loss: 0.0726 - val_accuracy: 0.2720 - val_loss: 0.0799\n",
      "Epoch 32/100\n",
      "\u001b[1m110/110\u001b[0m \u001b[32m━━━━━━━━━━━━━━━━━━━━\u001b[0m\u001b[37m\u001b[0m \u001b[1m1s\u001b[0m 6ms/step - accuracy: 0.2672 - loss: 0.0705 - val_accuracy: 0.2807 - val_loss: 0.0803\n",
      "Epoch 33/100\n",
      "\u001b[1m110/110\u001b[0m \u001b[32m━━━━━━━━━━━━━━━━━━━━\u001b[0m\u001b[37m\u001b[0m \u001b[1m1s\u001b[0m 7ms/step - accuracy: 0.2648 - loss: 0.0729 - val_accuracy: 0.2667 - val_loss: 0.0796\n",
      "Epoch 34/100\n",
      "\u001b[1m110/110\u001b[0m \u001b[32m━━━━━━━━━━━━━━━━━━━━\u001b[0m\u001b[37m\u001b[0m \u001b[1m1s\u001b[0m 9ms/step - accuracy: 0.2890 - loss: 0.0686 - val_accuracy: 0.2567 - val_loss: 0.0817\n",
      "Epoch 35/100\n",
      "\u001b[1m110/110\u001b[0m \u001b[32m━━━━━━━━━━━━━━━━━━━━\u001b[0m\u001b[37m\u001b[0m \u001b[1m1s\u001b[0m 7ms/step - accuracy: 0.2772 - loss: 0.0700 - val_accuracy: 0.2480 - val_loss: 0.0788\n",
      "Epoch 36/100\n",
      "\u001b[1m110/110\u001b[0m \u001b[32m━━━━━━━━━━━━━━━━━━━━\u001b[0m\u001b[37m\u001b[0m \u001b[1m1s\u001b[0m 7ms/step - accuracy: 0.2522 - loss: 0.0684 - val_accuracy: 0.2600 - val_loss: 0.0791\n",
      "Epoch 37/100\n",
      "\u001b[1m110/110\u001b[0m \u001b[32m━━━━━━━━━━━━━━━━━━━━\u001b[0m\u001b[37m\u001b[0m \u001b[1m1s\u001b[0m 7ms/step - accuracy: 0.2582 - loss: 0.0666 - val_accuracy: 0.2767 - val_loss: 0.0783\n",
      "Epoch 38/100\n",
      "\u001b[1m110/110\u001b[0m \u001b[32m━━━━━━━━━━━━━━━━━━━━\u001b[0m\u001b[37m\u001b[0m \u001b[1m1s\u001b[0m 6ms/step - accuracy: 0.2642 - loss: 0.0703 - val_accuracy: 0.2820 - val_loss: 0.0788\n",
      "Epoch 39/100\n",
      "\u001b[1m110/110\u001b[0m \u001b[32m━━━━━━━━━━━━━━━━━━━━\u001b[0m\u001b[37m\u001b[0m \u001b[1m1s\u001b[0m 7ms/step - accuracy: 0.2759 - loss: 0.0704 - val_accuracy: 0.2733 - val_loss: 0.0780\n",
      "Epoch 40/100\n",
      "\u001b[1m110/110\u001b[0m \u001b[32m━━━━━━━━━━━━━━━━━━━━\u001b[0m\u001b[37m\u001b[0m \u001b[1m1s\u001b[0m 7ms/step - accuracy: 0.2841 - loss: 0.0624 - val_accuracy: 0.2740 - val_loss: 0.0789\n",
      "Epoch 41/100\n",
      "\u001b[1m110/110\u001b[0m \u001b[32m━━━━━━━━━━━━━━━━━━━━\u001b[0m\u001b[37m\u001b[0m \u001b[1m1s\u001b[0m 7ms/step - accuracy: 0.2683 - loss: 0.0661 - val_accuracy: 0.2780 - val_loss: 0.0770\n",
      "Epoch 42/100\n",
      "\u001b[1m110/110\u001b[0m \u001b[32m━━━━━━━━━━━━━━━━━━━━\u001b[0m\u001b[37m\u001b[0m \u001b[1m1s\u001b[0m 7ms/step - accuracy: 0.2701 - loss: 0.0611 - val_accuracy: 0.2580 - val_loss: 0.0788\n",
      "Epoch 43/100\n",
      "\u001b[1m110/110\u001b[0m \u001b[32m━━━━━━━━━━━━━━━━━━━━\u001b[0m\u001b[37m\u001b[0m \u001b[1m1s\u001b[0m 7ms/step - accuracy: 0.2854 - loss: 0.0717 - val_accuracy: 0.2460 - val_loss: 0.0784\n",
      "Epoch 44/100\n",
      "\u001b[1m110/110\u001b[0m \u001b[32m━━━━━━━━━━━━━━━━━━━━\u001b[0m\u001b[37m\u001b[0m \u001b[1m1s\u001b[0m 7ms/step - accuracy: 0.2730 - loss: 0.0610 - val_accuracy: 0.2780 - val_loss: 0.0770\n",
      "Epoch 45/100\n",
      "\u001b[1m110/110\u001b[0m \u001b[32m━━━━━━━━━━━━━━━━━━━━\u001b[0m\u001b[37m\u001b[0m \u001b[1m1s\u001b[0m 7ms/step - accuracy: 0.2772 - loss: 0.0666 - val_accuracy: 0.2907 - val_loss: 0.0762\n",
      "Epoch 46/100\n",
      "\u001b[1m110/110\u001b[0m \u001b[32m━━━━━━━━━━━━━━━━━━━━\u001b[0m\u001b[37m\u001b[0m \u001b[1m1s\u001b[0m 7ms/step - accuracy: 0.2720 - loss: 0.0625 - val_accuracy: 0.2773 - val_loss: 0.0763\n",
      "Epoch 47/100\n",
      "\u001b[1m110/110\u001b[0m \u001b[32m━━━━━━━━━━━━━━━━━━━━\u001b[0m\u001b[37m\u001b[0m \u001b[1m1s\u001b[0m 7ms/step - accuracy: 0.2848 - loss: 0.0654 - val_accuracy: 0.2720 - val_loss: 0.0760\n",
      "Epoch 48/100\n",
      "\u001b[1m110/110\u001b[0m \u001b[32m━━━━━━━━━━━━━━━━━━━━\u001b[0m\u001b[37m\u001b[0m \u001b[1m1s\u001b[0m 6ms/step - accuracy: 0.2885 - loss: 0.0661 - val_accuracy: 0.2967 - val_loss: 0.0770\n",
      "Epoch 49/100\n",
      "\u001b[1m110/110\u001b[0m \u001b[32m━━━━━━━━━━━━━━━━━━━━\u001b[0m\u001b[37m\u001b[0m \u001b[1m1s\u001b[0m 6ms/step - accuracy: 0.2687 - loss: 0.0628 - val_accuracy: 0.2880 - val_loss: 0.0746\n",
      "Epoch 50/100\n",
      "\u001b[1m110/110\u001b[0m \u001b[32m━━━━━━━━━━━━━━━━━━━━\u001b[0m\u001b[37m\u001b[0m \u001b[1m1s\u001b[0m 6ms/step - accuracy: 0.2781 - loss: 0.0638 - val_accuracy: 0.3027 - val_loss: 0.0740\n",
      "Epoch 51/100\n"
     ]
    },
    {
     "name": "stdout",
     "output_type": "stream",
     "text": [
      "\u001b[1m110/110\u001b[0m \u001b[32m━━━━━━━━━━━━━━━━━━━━\u001b[0m\u001b[37m\u001b[0m \u001b[1m1s\u001b[0m 5ms/step - accuracy: 0.2850 - loss: 0.0601 - val_accuracy: 0.2800 - val_loss: 0.0754\n",
      "Epoch 52/100\n",
      "\u001b[1m110/110\u001b[0m \u001b[32m━━━━━━━━━━━━━━━━━━━━\u001b[0m\u001b[37m\u001b[0m \u001b[1m1s\u001b[0m 5ms/step - accuracy: 0.2861 - loss: 0.0594 - val_accuracy: 0.2840 - val_loss: 0.0736\n",
      "Epoch 53/100\n",
      "\u001b[1m110/110\u001b[0m \u001b[32m━━━━━━━━━━━━━━━━━━━━\u001b[0m\u001b[37m\u001b[0m \u001b[1m1s\u001b[0m 5ms/step - accuracy: 0.2853 - loss: 0.0604 - val_accuracy: 0.2660 - val_loss: 0.0739\n",
      "Epoch 54/100\n",
      "\u001b[1m110/110\u001b[0m \u001b[32m━━━━━━━━━━━━━━━━━━━━\u001b[0m\u001b[37m\u001b[0m \u001b[1m1s\u001b[0m 6ms/step - accuracy: 0.2914 - loss: 0.0627 - val_accuracy: 0.2800 - val_loss: 0.0750\n",
      "Epoch 55/100\n",
      "\u001b[1m110/110\u001b[0m \u001b[32m━━━━━━━━━━━━━━━━━━━━\u001b[0m\u001b[37m\u001b[0m \u001b[1m1s\u001b[0m 6ms/step - accuracy: 0.2838 - loss: 0.0640 - val_accuracy: 0.2887 - val_loss: 0.0731\n",
      "Epoch 56/100\n",
      "\u001b[1m110/110\u001b[0m \u001b[32m━━━━━━━━━━━━━━━━━━━━\u001b[0m\u001b[37m\u001b[0m \u001b[1m1s\u001b[0m 6ms/step - accuracy: 0.2959 - loss: 0.0618 - val_accuracy: 0.2833 - val_loss: 0.0738\n",
      "Epoch 57/100\n",
      "\u001b[1m110/110\u001b[0m \u001b[32m━━━━━━━━━━━━━━━━━━━━\u001b[0m\u001b[37m\u001b[0m \u001b[1m1s\u001b[0m 6ms/step - accuracy: 0.2833 - loss: 0.0630 - val_accuracy: 0.2873 - val_loss: 0.0740\n",
      "Epoch 58/100\n",
      "\u001b[1m110/110\u001b[0m \u001b[32m━━━━━━━━━━━━━━━━━━━━\u001b[0m\u001b[37m\u001b[0m \u001b[1m1s\u001b[0m 6ms/step - accuracy: 0.2909 - loss: 0.0668 - val_accuracy: 0.2860 - val_loss: 0.0735\n",
      "Epoch 59/100\n",
      "\u001b[1m110/110\u001b[0m \u001b[32m━━━━━━━━━━━━━━━━━━━━\u001b[0m\u001b[37m\u001b[0m \u001b[1m1s\u001b[0m 7ms/step - accuracy: 0.2757 - loss: 0.0624 - val_accuracy: 0.3067 - val_loss: 0.0728\n",
      "Epoch 60/100\n",
      "\u001b[1m110/110\u001b[0m \u001b[32m━━━━━━━━━━━━━━━━━━━━\u001b[0m\u001b[37m\u001b[0m \u001b[1m1s\u001b[0m 7ms/step - accuracy: 0.3029 - loss: 0.0592 - val_accuracy: 0.2827 - val_loss: 0.0734\n",
      "Epoch 61/100\n",
      "\u001b[1m110/110\u001b[0m \u001b[32m━━━━━━━━━━━━━━━━━━━━\u001b[0m\u001b[37m\u001b[0m \u001b[1m1s\u001b[0m 6ms/step - accuracy: 0.3113 - loss: 0.0611 - val_accuracy: 0.2980 - val_loss: 0.0734\n",
      "Epoch 62/100\n",
      "\u001b[1m110/110\u001b[0m \u001b[32m━━━━━━━━━━━━━━━━━━━━\u001b[0m\u001b[37m\u001b[0m \u001b[1m1s\u001b[0m 6ms/step - accuracy: 0.2809 - loss: 0.0590 - val_accuracy: 0.2713 - val_loss: 0.0788\n",
      "Epoch 63/100\n",
      "\u001b[1m110/110\u001b[0m \u001b[32m━━━━━━━━━━━━━━━━━━━━\u001b[0m\u001b[37m\u001b[0m \u001b[1m1s\u001b[0m 6ms/step - accuracy: 0.3037 - loss: 0.0620 - val_accuracy: 0.2947 - val_loss: 0.0736\n",
      "Epoch 64/100\n",
      "\u001b[1m110/110\u001b[0m \u001b[32m━━━━━━━━━━━━━━━━━━━━\u001b[0m\u001b[37m\u001b[0m \u001b[1m1s\u001b[0m 6ms/step - accuracy: 0.3018 - loss: 0.0558 - val_accuracy: 0.2880 - val_loss: 0.0735\n",
      "Epoch 65/100\n",
      "\u001b[1m110/110\u001b[0m \u001b[32m━━━━━━━━━━━━━━━━━━━━\u001b[0m\u001b[37m\u001b[0m \u001b[1m1s\u001b[0m 7ms/step - accuracy: 0.2956 - loss: 0.0595 - val_accuracy: 0.3133 - val_loss: 0.0737\n",
      "Epoch 66/100\n",
      "\u001b[1m110/110\u001b[0m \u001b[32m━━━━━━━━━━━━━━━━━━━━\u001b[0m\u001b[37m\u001b[0m \u001b[1m1s\u001b[0m 6ms/step - accuracy: 0.3047 - loss: 0.0574 - val_accuracy: 0.2907 - val_loss: 0.0720\n",
      "Epoch 67/100\n",
      "\u001b[1m110/110\u001b[0m \u001b[32m━━━━━━━━━━━━━━━━━━━━\u001b[0m\u001b[37m\u001b[0m \u001b[1m1s\u001b[0m 7ms/step - accuracy: 0.2801 - loss: 0.0568 - val_accuracy: 0.3040 - val_loss: 0.0721\n",
      "Epoch 68/100\n",
      "\u001b[1m110/110\u001b[0m \u001b[32m━━━━━━━━━━━━━━━━━━━━\u001b[0m\u001b[37m\u001b[0m \u001b[1m1s\u001b[0m 6ms/step - accuracy: 0.3002 - loss: 0.0555 - val_accuracy: 0.2780 - val_loss: 0.0746\n",
      "Epoch 69/100\n",
      "\u001b[1m110/110\u001b[0m \u001b[32m━━━━━━━━━━━━━━━━━━━━\u001b[0m\u001b[37m\u001b[0m \u001b[1m1s\u001b[0m 7ms/step - accuracy: 0.2901 - loss: 0.0613 - val_accuracy: 0.2920 - val_loss: 0.0733\n",
      "Epoch 70/100\n",
      "\u001b[1m110/110\u001b[0m \u001b[32m━━━━━━━━━━━━━━━━━━━━\u001b[0m\u001b[37m\u001b[0m \u001b[1m1s\u001b[0m 6ms/step - accuracy: 0.2927 - loss: 0.0588 - val_accuracy: 0.3153 - val_loss: 0.0720\n",
      "Epoch 71/100\n",
      "\u001b[1m110/110\u001b[0m \u001b[32m━━━━━━━━━━━━━━━━━━━━\u001b[0m\u001b[37m\u001b[0m \u001b[1m1s\u001b[0m 7ms/step - accuracy: 0.2980 - loss: 0.0519 - val_accuracy: 0.3000 - val_loss: 0.0737\n",
      "Epoch 72/100\n",
      "\u001b[1m110/110\u001b[0m \u001b[32m━━━━━━━━━━━━━━━━━━━━\u001b[0m\u001b[37m\u001b[0m \u001b[1m1s\u001b[0m 7ms/step - accuracy: 0.3002 - loss: 0.0668 - val_accuracy: 0.2847 - val_loss: 0.0717\n",
      "Epoch 73/100\n",
      "\u001b[1m110/110\u001b[0m \u001b[32m━━━━━━━━━━━━━━━━━━━━\u001b[0m\u001b[37m\u001b[0m \u001b[1m1s\u001b[0m 7ms/step - accuracy: 0.2972 - loss: 0.0586 - val_accuracy: 0.3000 - val_loss: 0.0728\n",
      "Epoch 74/100\n",
      "\u001b[1m110/110\u001b[0m \u001b[32m━━━━━━━━━━━━━━━━━━━━\u001b[0m\u001b[37m\u001b[0m \u001b[1m1s\u001b[0m 7ms/step - accuracy: 0.2969 - loss: 0.0558 - val_accuracy: 0.2900 - val_loss: 0.0733\n",
      "Epoch 75/100\n",
      "\u001b[1m110/110\u001b[0m \u001b[32m━━━━━━━━━━━━━━━━━━━━\u001b[0m\u001b[37m\u001b[0m \u001b[1m1s\u001b[0m 6ms/step - accuracy: 0.2918 - loss: 0.0600 - val_accuracy: 0.2940 - val_loss: 0.0727\n",
      "Epoch 76/100\n",
      "\u001b[1m110/110\u001b[0m \u001b[32m━━━━━━━━━━━━━━━━━━━━\u001b[0m\u001b[37m\u001b[0m \u001b[1m1s\u001b[0m 7ms/step - accuracy: 0.2974 - loss: 0.0585 - val_accuracy: 0.2860 - val_loss: 0.0720\n",
      "Epoch 77/100\n",
      "\u001b[1m110/110\u001b[0m \u001b[32m━━━━━━━━━━━━━━━━━━━━\u001b[0m\u001b[37m\u001b[0m \u001b[1m1s\u001b[0m 7ms/step - accuracy: 0.2957 - loss: 0.0551 - val_accuracy: 0.2767 - val_loss: 0.0729\n",
      "Epoch 78/100\n",
      "\u001b[1m110/110\u001b[0m \u001b[32m━━━━━━━━━━━━━━━━━━━━\u001b[0m\u001b[37m\u001b[0m \u001b[1m1s\u001b[0m 7ms/step - accuracy: 0.3022 - loss: 0.0602 - val_accuracy: 0.2967 - val_loss: 0.0719\n",
      "Epoch 79/100\n",
      "\u001b[1m110/110\u001b[0m \u001b[32m━━━━━━━━━━━━━━━━━━━━\u001b[0m\u001b[37m\u001b[0m \u001b[1m1s\u001b[0m 7ms/step - accuracy: 0.3177 - loss: 0.0579 - val_accuracy: 0.2953 - val_loss: 0.0711\n",
      "Epoch 80/100\n",
      "\u001b[1m110/110\u001b[0m \u001b[32m━━━━━━━━━━━━━━━━━━━━\u001b[0m\u001b[37m\u001b[0m \u001b[1m1s\u001b[0m 7ms/step - accuracy: 0.3147 - loss: 0.0557 - val_accuracy: 0.2720 - val_loss: 0.0826\n",
      "Epoch 81/100\n",
      "\u001b[1m110/110\u001b[0m \u001b[32m━━━━━━━━━━━━━━━━━━━━\u001b[0m\u001b[37m\u001b[0m \u001b[1m1s\u001b[0m 7ms/step - accuracy: 0.2921 - loss: 0.0662 - val_accuracy: 0.3080 - val_loss: 0.0732\n",
      "Epoch 82/100\n",
      "\u001b[1m110/110\u001b[0m \u001b[32m━━━━━━━━━━━━━━━━━━━━\u001b[0m\u001b[37m\u001b[0m \u001b[1m1s\u001b[0m 7ms/step - accuracy: 0.2928 - loss: 0.0582 - val_accuracy: 0.3127 - val_loss: 0.0757\n",
      "Epoch 83/100\n",
      "\u001b[1m110/110\u001b[0m \u001b[32m━━━━━━━━━━━━━━━━━━━━\u001b[0m\u001b[37m\u001b[0m \u001b[1m1s\u001b[0m 8ms/step - accuracy: 0.2995 - loss: 0.0588 - val_accuracy: 0.3173 - val_loss: 0.0706\n",
      "Epoch 84/100\n",
      "\u001b[1m110/110\u001b[0m \u001b[32m━━━━━━━━━━━━━━━━━━━━\u001b[0m\u001b[37m\u001b[0m \u001b[1m1s\u001b[0m 8ms/step - accuracy: 0.2923 - loss: 0.0568 - val_accuracy: 0.3013 - val_loss: 0.0709\n",
      "Epoch 85/100\n",
      "\u001b[1m110/110\u001b[0m \u001b[32m━━━━━━━━━━━━━━━━━━━━\u001b[0m\u001b[37m\u001b[0m \u001b[1m1s\u001b[0m 7ms/step - accuracy: 0.3183 - loss: 0.0532 - val_accuracy: 0.2967 - val_loss: 0.0709\n",
      "Epoch 86/100\n",
      "\u001b[1m110/110\u001b[0m \u001b[32m━━━━━━━━━━━━━━━━━━━━\u001b[0m\u001b[37m\u001b[0m \u001b[1m1s\u001b[0m 9ms/step - accuracy: 0.3072 - loss: 0.0553 - val_accuracy: 0.3073 - val_loss: 0.0709\n",
      "Epoch 87/100\n",
      "\u001b[1m110/110\u001b[0m \u001b[32m━━━━━━━━━━━━━━━━━━━━\u001b[0m\u001b[37m\u001b[0m \u001b[1m1s\u001b[0m 7ms/step - accuracy: 0.3048 - loss: 0.0534 - val_accuracy: 0.3053 - val_loss: 0.0718\n",
      "Epoch 88/100\n",
      "\u001b[1m110/110\u001b[0m \u001b[32m━━━━━━━━━━━━━━━━━━━━\u001b[0m\u001b[37m\u001b[0m \u001b[1m2s\u001b[0m 10ms/step - accuracy: 0.3179 - loss: 0.0534 - val_accuracy: 0.3147 - val_loss: 0.0717\n",
      "Epoch 89/100\n",
      "\u001b[1m110/110\u001b[0m \u001b[32m━━━━━━━━━━━━━━━━━━━━\u001b[0m\u001b[37m\u001b[0m \u001b[1m1s\u001b[0m 7ms/step - accuracy: 0.3153 - loss: 0.0548 - val_accuracy: 0.2987 - val_loss: 0.0708\n",
      "Epoch 90/100\n",
      "\u001b[1m110/110\u001b[0m \u001b[32m━━━━━━━━━━━━━━━━━━━━\u001b[0m\u001b[37m\u001b[0m \u001b[1m1s\u001b[0m 7ms/step - accuracy: 0.3098 - loss: 0.0542 - val_accuracy: 0.2947 - val_loss: 0.0713\n",
      "Epoch 91/100\n",
      "\u001b[1m110/110\u001b[0m \u001b[32m━━━━━━━━━━━━━━━━━━━━\u001b[0m\u001b[37m\u001b[0m \u001b[1m1s\u001b[0m 7ms/step - accuracy: 0.3083 - loss: 0.0538 - val_accuracy: 0.3093 - val_loss: 0.0712\n",
      "Epoch 92/100\n",
      "\u001b[1m110/110\u001b[0m \u001b[32m━━━━━━━━━━━━━━━━━━━━\u001b[0m\u001b[37m\u001b[0m \u001b[1m1s\u001b[0m 6ms/step - accuracy: 0.3040 - loss: 0.0548 - val_accuracy: 0.3107 - val_loss: 0.0707\n",
      "Epoch 93/100\n",
      "\u001b[1m110/110\u001b[0m \u001b[32m━━━━━━━━━━━━━━━━━━━━\u001b[0m\u001b[37m\u001b[0m \u001b[1m1s\u001b[0m 6ms/step - accuracy: 0.2795 - loss: 0.0589 - val_accuracy: 0.3093 - val_loss: 0.0726\n",
      "Epoch 94/100\n",
      "\u001b[1m110/110\u001b[0m \u001b[32m━━━━━━━━━━━━━━━━━━━━\u001b[0m\u001b[37m\u001b[0m \u001b[1m1s\u001b[0m 5ms/step - accuracy: 0.3019 - loss: 0.0555 - val_accuracy: 0.3060 - val_loss: 0.0715\n",
      "Epoch 95/100\n",
      "\u001b[1m110/110\u001b[0m \u001b[32m━━━━━━━━━━━━━━━━━━━━\u001b[0m\u001b[37m\u001b[0m \u001b[1m1s\u001b[0m 6ms/step - accuracy: 0.3110 - loss: 0.0529 - val_accuracy: 0.2933 - val_loss: 0.0730\n",
      "Epoch 96/100\n",
      "\u001b[1m110/110\u001b[0m \u001b[32m━━━━━━━━━━━━━━━━━━━━\u001b[0m\u001b[37m\u001b[0m \u001b[1m1s\u001b[0m 6ms/step - accuracy: 0.3177 - loss: 0.0564 - val_accuracy: 0.3040 - val_loss: 0.0718\n",
      "Epoch 97/100\n",
      "\u001b[1m110/110\u001b[0m \u001b[32m━━━━━━━━━━━━━━━━━━━━\u001b[0m\u001b[37m\u001b[0m \u001b[1m1s\u001b[0m 5ms/step - accuracy: 0.3172 - loss: 0.0554 - val_accuracy: 0.3027 - val_loss: 0.0706\n",
      "Epoch 98/100\n",
      "\u001b[1m110/110\u001b[0m \u001b[32m━━━━━━━━━━━━━━━━━━━━\u001b[0m\u001b[37m\u001b[0m \u001b[1m1s\u001b[0m 6ms/step - accuracy: 0.3183 - loss: 0.0538 - val_accuracy: 0.2880 - val_loss: 0.0710\n",
      "Epoch 99/100\n",
      "\u001b[1m110/110\u001b[0m \u001b[32m━━━━━━━━━━━━━━━━━━━━\u001b[0m\u001b[37m\u001b[0m \u001b[1m1s\u001b[0m 7ms/step - accuracy: 0.3171 - loss: 0.0551 - val_accuracy: 0.3000 - val_loss: 0.0695\n",
      "Epoch 100/100\n",
      "\u001b[1m110/110\u001b[0m \u001b[32m━━━━━━━━━━━━━━━━━━━━\u001b[0m\u001b[37m\u001b[0m \u001b[1m1s\u001b[0m 6ms/step - accuracy: 0.3044 - loss: 0.0572 - val_accuracy: 0.3007 - val_loss: 0.0718\n"
     ]
    }
   ],
   "source": [
    "history=autoencoder.fit(X_train,X_train,epochs=100,batch_size=32,shuffle=True,validation_data=(X_test,X_test))\n"
   ]
  },
  {
   "cell_type": "code",
   "execution_count": 11,
   "metadata": {},
   "outputs": [
    {
     "name": "stdout",
     "output_type": "stream",
     "text": [
      "\u001b[1m47/47\u001b[0m \u001b[32m━━━━━━━━━━━━━━━━━━━━\u001b[0m\u001b[37m\u001b[0m \u001b[1m0s\u001b[0m 3ms/step - accuracy: 0.3171 - loss: 0.0721\n",
      "Test Loss:  0.3006666600704193\n",
      "Accuracy  0.07179451733827591\n"
     ]
    }
   ],
   "source": [
    "test_acc,test_loss = autoencoder.evaluate(X_test, X_test)\n",
    "print(\"Test Loss: \",test_loss)\n",
    "print(\"Accuracy \",test_acc)"
   ]
  },
  {
   "cell_type": "code",
   "execution_count": 12,
   "metadata": {},
   "outputs": [
    {
     "name": "stdout",
     "output_type": "stream",
     "text": [
      "\u001b[1m47/47\u001b[0m \u001b[32m━━━━━━━━━━━━━━━━━━━━\u001b[0m\u001b[37m\u001b[0m \u001b[1m0s\u001b[0m 5ms/step\n",
      "Confusion Matrix:\n",
      " [[591  31]\n",
      " [834  44]]\n",
      "Classification report:\n",
      "               precision    recall  f1-score   support\n",
      "\n",
      "           0       0.41      0.95      0.58       622\n",
      "           1       0.59      0.05      0.09       878\n",
      "\n",
      "    accuracy                           0.42      1500\n",
      "   macro avg       0.50      0.50      0.33      1500\n",
      "weighted avg       0.52      0.42      0.29      1500\n",
      "\n"
     ]
    }
   ],
   "source": [
    "predictions=autoencoder.predict(X_test)\n",
    "mse=np.mean((X_test-predictions)**2,axis=1)\n",
    "threshold = np.percentile(mse, 95)\n",
    "outliers = mse> threshold\n",
    "print(\"Confusion Matrix:\\n\", confusion_matrix(y_test, outliers))\n",
    "print(\"Classification report:\\n\", classification_report(y_test, outliers))"
   ]
  },
  {
   "cell_type": "code",
   "execution_count": 13,
   "metadata": {},
   "outputs": [
    {
     "name": "stdout",
     "output_type": "stream",
     "text": [
      "Number of anomalies: 44\n"
     ]
    }
   ],
   "source": [
    "num_anomalies = np.sum(y_test[outliers] == 1)\n",
    "print(f'Number of anomalies: {num_anomalies}')"
   ]
  },
  {
   "cell_type": "code",
   "execution_count": 14,
   "metadata": {},
   "outputs": [
    {
     "data": {
      "image/png": "[encoded data removed]",
      "text/plain": [
       "<Figure size 640x480 with 1 Axes>"
      ]
     },
     "metadata": {},
     "output_type": "display_data"
    }
   ],
   "source": [
    "plt.plot(history.history['loss'])\n",
    "plt.plot(history.history['val_loss'])\n",
    "plt.xlabel('Epochs')\n",
    "plt.ylabel('MSLE Loss')\n",
    "plt.legend(['loss', 'val_loss'])\n",
    "plt.show()"
   ]
  },
  {
   "cell_type": "code",
   "execution_count": null,
   "metadata": {},
   "outputs": [],
   "source": []
  }
 ],
 "metadata": {
  "kernelspec": {
   "display_name": "Python 3 (ipykernel)",
   "language": "python",
   "name": "python3"
  },
  "language_info": {
   "codemirror_mode": {
    "name": "ipython",
    "version": 3
   },
   "file_extension": ".py",
   "mimetype": "text/x-python",
   "name": "python",
   "nbconvert_exporter": "python",
   "pygments_lexer": "ipython3",
   "version": "3.9.13"
  }
 },
 "nbformat": 4,
 "nbformat_minor": 2
}
