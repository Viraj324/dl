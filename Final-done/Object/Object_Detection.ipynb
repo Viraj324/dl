{
 "cells": [
  {
   "cell_type": "code",
   "execution_count": 1,
   "id": "6c7ee3ac-5f55-442b-a438-21f69b20f9b9",
   "metadata": {},
   "outputs": [
    {
     "name": "stderr",
     "output_type": "stream",
     "text": [
      "C:\\Users\\ADMIN\\anaconda3\\lib\\site-packages\\scipy\\__init__.py:155: UserWarning: A NumPy version >=1.18.5 and <1.25.0 is required for this version of SciPy (detected version 1.26.4\n",
      "  warnings.warn(f\"A NumPy version >={np_minversion} and <{np_maxversion}\"\n"
     ]
    }
   ],
   "source": [
    "import pandas as pd\n",
    "import numpy as np\n",
    "import matplotlib.pyplot as plt\n",
    "import tensorflow as tf\n",
    "from tensorflow.keras.preprocessing.image import ImageDataGenerator"
   ]
  },
  {
   "cell_type": "code",
   "execution_count": 5,
   "id": "a6fb0b25-c914-43f7-8a29-0cf331f8277d",
   "metadata": {},
   "outputs": [],
   "source": [
    "data = 'C:/Users/ADMIN/Desktop/SEM-7/Dl-practicals/LP-IV-datasets/Object Detection(Ass6)/caltech-101-img'\n"
   ]
  },
  {
   "cell_type": "code",
   "execution_count": 6,
   "id": "c34475d3-e7bf-4d5d-ba3b-bbfa1e561a79",
   "metadata": {},
   "outputs": [],
   "source": [
    "img_gen = ImageDataGenerator(rescale=1.0/255)"
   ]
  },
  {
   "cell_type": "code",
   "execution_count": 7,
   "id": "3ddc953b-c8e6-4b1a-8a41-53e5dee71085",
   "metadata": {},
   "outputs": [
    {
     "name": "stdout",
     "output_type": "stream",
     "text": [
      "Found 9144 images belonging to 102 classes.\n"
     ]
    }
   ],
   "source": [
    "data_gen = img_gen.flow_from_directory(\n",
    "    data,\n",
    "    target_size=(32,32),\n",
    "    batch_size=9144,\n",
    "    shuffle=True,\n",
    "    class_mode='categorical'\n",
    ")"
   ]
  },
  {
   "cell_type": "code",
   "execution_count": 8,
   "id": "f639838f-dbce-48f4-a4a1-debce814062a",
   "metadata": {},
   "outputs": [],
   "source": [
    "x_data, y_data = data_gen[0]"
   ]
  },
  {
   "cell_type": "code",
   "execution_count": 12,
   "id": "3811c47e-2219-432b-a78a-4809337270ed",
   "metadata": {},
   "outputs": [
    {
     "name": "stdout",
     "output_type": "stream",
     "text": [
      "Defaulting to user installation because normal site-packages is not writeable\n",
      "Requirement already satisfied: scikit-learn in c:\\users\\jagad\\appdata\\local\\packages\\pythonsoftwarefoundation.python.3.12_qbz5n2kfra8p0\\localcache\\local-packages\\python312\\site-packages (1.5.2)\n",
      "Requirement already satisfied: numpy>=1.19.5 in c:\\users\\jagad\\appdata\\local\\packages\\pythonsoftwarefoundation.python.3.12_qbz5n2kfra8p0\\localcache\\local-packages\\python312\\site-packages (from scikit-learn) (1.26.4)\n",
      "Requirement already satisfied: scipy>=1.6.0 in c:\\users\\jagad\\appdata\\local\\packages\\pythonsoftwarefoundation.python.3.12_qbz5n2kfra8p0\\localcache\\local-packages\\python312\\site-packages (from scikit-learn) (1.14.1)\n",
      "Requirement already satisfied: joblib>=1.2.0 in c:\\users\\jagad\\appdata\\local\\packages\\pythonsoftwarefoundation.python.3.12_qbz5n2kfra8p0\\localcache\\local-packages\\python312\\site-packages (from scikit-learn) (1.4.0)\n",
      "Requirement already satisfied: threadpoolctl>=3.1.0 in c:\\users\\jagad\\appdata\\local\\packages\\pythonsoftwarefoundation.python.3.12_qbz5n2kfra8p0\\localcache\\local-packages\\python312\\site-packages (from scikit-learn) (3.5.0)\n"
     ]
    }
   ],
   "source": [
    "!pip install scikit-learn"
   ]
  },
  {
   "cell_type": "code",
   "execution_count": 9,
   "id": "f53864fb-b681-4636-85e5-1b54470bc179",
   "metadata": {},
   "outputs": [],
   "source": [
    "from sklearn.model_selection import train_test_split"
   ]
  },
  {
   "cell_type": "code",
   "execution_count": 10,
   "id": "91785dc3-c0ba-467e-bcbf-e0855646c4bb",
   "metadata": {},
   "outputs": [],
   "source": [
    "x_train, x_test, y_train, y_test = train_test_split(x_data, y_data, test_size=0.2, random_state=2)"
   ]
  },
  {
   "cell_type": "code",
   "execution_count": 11,
   "id": "3199eb0b-366f-4e9d-bbb7-d89132a5bbda",
   "metadata": {},
   "outputs": [
    {
     "name": "stdout",
     "output_type": "stream",
     "text": [
      "(7315, 32, 32, 3)\n",
      "(1829, 32, 32, 3)\n",
      "(7315, 102)\n",
      "(1829, 102)\n"
     ]
    }
   ],
   "source": [
    "print(x_train.shape)\n",
    "print(x_test.shape)\n",
    "print(y_train.shape)\n",
    "print(y_test.shape)"
   ]
  },
  {
   "cell_type": "code",
   "execution_count": 12,
   "id": "e3983cff-bea9-4cd2-9a11-4d29a69b68fe",
   "metadata": {},
   "outputs": [],
   "source": [
    "from tensorflow.keras.applications import VGG16"
   ]
  },
  {
   "cell_type": "code",
   "execution_count": 14,
   "id": "35473b32-fd2b-42bf-88dc-dc3f72ba7cb0",
   "metadata": {},
   "outputs": [],
   "source": [
    "path = 'C:/Users/ADMIN/Desktop/SEM-7/Dl-practicals/LP-IV-datasets/Object Detection(Ass6)/vgg16_weights_tf_dim_ordering_tf_kernels_notop.h5'\n",
    "\n",
    "vgg_model = VGG16(weights=path, include_top=False, input_shape=(32,32,3))"
   ]
  },
  {
   "cell_type": "code",
   "execution_count": 15,
   "id": "bbbb48e5-f6dd-4a21-96eb-d1aeaa0c9115",
   "metadata": {},
   "outputs": [],
   "source": [
    "for layer in vgg_model.layers:\n",
    "    layer.trainabler=False"
   ]
  },
  {
   "cell_type": "code",
   "execution_count": 16,
   "id": "9abb726d-8a85-4c04-8a0d-2e7a387a1e85",
   "metadata": {},
   "outputs": [],
   "source": [
    "from tensorflow.keras import models, layers"
   ]
  },
  {
   "cell_type": "code",
   "execution_count": 17,
   "id": "d564369f-d498-40a3-a8ef-8ff459f6d047",
   "metadata": {},
   "outputs": [
    {
     "name": "stderr",
     "output_type": "stream",
     "text": [
      "C:\\Users\\ADMIN\\AppData\\Roaming\\Python\\Python39\\site-packages\\keras\\src\\layers\\reshaping\\flatten.py:37: UserWarning: Do not pass an `input_shape`/`input_dim` argument to a layer. When using Sequential models, prefer using an `Input(shape)` object as the first layer in the model instead.\n",
      "  super().__init__(**kwargs)\n"
     ]
    }
   ],
   "source": [
    "custom_classifier = models.Sequential()\n",
    "custom_classifier.add(layers.Flatten(input_shape=(1,1,512)))\n",
    "custom_classifier.add(layers.Dense(64, activation='relu'))\n",
    "custom_classifier.add(layers.Dropout(0.2))\n",
    "custom_classifier.add(layers.Dense(32, activation='relu'))\n",
    "custom_classifier.add(layers.Dropout(0.2))\n",
    "custom_classifier.add(layers.Dense(102, activation='softmax'))\n",
    "                      "
   ]
  },
  {
   "cell_type": "code",
   "execution_count": 18,
   "id": "a26fa3d3-c0ad-402f-9d19-f13ec5f34f7d",
   "metadata": {},
   "outputs": [],
   "source": [
    "model = models.Sequential([\n",
    "    vgg_model,\n",
    "    custom_classifier\n",
    "])"
   ]
  },
  {
   "cell_type": "code",
   "execution_count": 19,
   "id": "72b98b51-aab4-4b4e-a304-c1c999672241",
   "metadata": {},
   "outputs": [],
   "source": [
    "model.compile(optimizer='adam', loss='categorical_crossentropy', metrics=['accuracy'])"
   ]
  },
  {
   "cell_type": "code",
   "execution_count": 20,
   "id": "6df341cf-0960-4fe3-b859-7ce59b70b26e",
   "metadata": {},
   "outputs": [
    {
     "name": "stdout",
     "output_type": "stream",
     "text": [
      "\u001b[1m74/74\u001b[0m \u001b[32m━━━━━━━━━━━━━━━━━━━━\u001b[0m\u001b[37m\u001b[0m \u001b[1m351s\u001b[0m 5s/step - accuracy: 0.0509 - loss: 4.6106 - val_accuracy: 0.0929 - val_loss: 4.2648\n"
     ]
    },
    {
     "data": {
      "text/plain": [
       "<keras.src.callbacks.history.History at 0x251d213cfd0>"
      ]
     },
     "execution_count": 20,
     "metadata": {},
     "output_type": "execute_result"
    }
   ],
   "source": [
    "model.fit(x_train,y_train, batch_size=100, epochs=1, validation_data=(x_test,y_test))"
   ]
  },
  {
   "cell_type": "code",
   "execution_count": null,
   "id": "068f758c-03a5-4fe2-ad35-9c4a37d79b6c",
   "metadata": {},
   "outputs": [
    {
     "name": "stdout",
     "output_type": "stream",
     "text": [
      "\u001b[1m8/8\u001b[0m \u001b[32m━━━━━━━━━━━━━━━━━━━━\u001b[0m\u001b[37m\u001b[0m \u001b[1m0s\u001b[0m 34s/step - accuracy: 0.0909 - loss: 4.3264 "
     ]
    }
   ],
   "source": [
    "for layer in vgg_model.layers[:-4]:\n",
    "    layer.trainable = True\n",
    "    \n",
    "model.compile(optimizer='adam', loss='categorical_crossentropy', metrics=['accuracy'])\n",
    "model.fit(x_train, y_train, batch_size=1000, epochs=1, validation_data=(x_test,y_test))"
   ]
  },
  {
   "cell_type": "code",
   "execution_count": null,
   "id": "5a987b94-d924-4877-9362-3b248252963a",
   "metadata": {},
   "outputs": [],
   "source": [
    "loss, accurcay = model.evaluate(x_test,y_test)"
   ]
  },
  {
   "cell_type": "code",
   "execution_count": null,
   "id": "d223161e-6d14-4d76-b8f7-d2f3adf31a4b",
   "metadata": {},
   "outputs": [],
   "source": [
    "pred = model.predict(x_test)"
   ]
  },
  {
   "cell_type": "code",
   "execution_count": null,
   "id": "96aa35d3-e240-4e69-9e8d-ffc460ae36f5",
   "metadata": {},
   "outputs": [],
   "source": [
    "labels = list(data_gen.class_indices.keys())"
   ]
  },
  {
   "cell_type": "code",
   "execution_count": 43,
   "id": "835ba97f-5b90-48a0-b0c4-4e715e5514e5",
   "metadata": {},
   "outputs": [
    {
     "name": "stdout",
     "output_type": "stream",
     "text": [
      "Actual:  airplanes\n",
      "Predicted:  BACKGROUND_Google\n"
     ]
    },
    {
     "data": {
      "image/png": "[encoded data removed]",
      "text/plain": [
       "<Figure size 640x480 with 1 Axes>"
      ]
     },
     "metadata": {},
     "output_type": "display_data"
    }
   ],
   "source": [
    "plt.imshow(x_test[10])\n",
    "print('Actual: ', labels[np.argmax(pred[10])])\n",
    "print('Predicted: ', labels[np.argmax(y_test[10])])"
   ]
  },
  {
   "cell_type": "code",
   "execution_count": null,
   "id": "54c9a4c4-edb3-4b72-a239-727d8ca74063",
   "metadata": {},
   "outputs": [],
   "source": []
  }
 ],
 "metadata": {
  "kernelspec": {
   "display_name": "Python 3 (ipykernel)",
   "language": "python",
   "name": "python3"
  },
  "language_info": {
   "codemirror_mode": {
    "name": "ipython",
    "version": 3
   },
   "file_extension": ".py",
   "mimetype": "text/x-python",
   "name": "python",
   "nbconvert_exporter": "python",
   "pygments_lexer": "ipython3",
   "version": "3.9.13"
  }
 },
 "nbformat": 4,
 "nbformat_minor": 5
}
